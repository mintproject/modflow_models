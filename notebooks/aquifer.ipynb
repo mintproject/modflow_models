{
 "cells": [
  {
   "cell_type": "code",
   "execution_count": 4,
   "metadata": {},
   "outputs": [],
   "source": [
    "import numpy as np\n",
    "import flopy\n",
    "import flopy.utils.binaryfile as bf\n",
    "import matplotlib.pyplot as plt\n",
    "\n",
    "MF2005_EXE='../mf2005'\n",
    "MT3DMS_EXE='../mt3dms'\n",
    "\n",
    "INPUT_AQUIFER  = 'aquifer'\n",
    "MODEL_NAME = 'aquifer'"
   ]
  },
  {
   "cell_type": "code",
   "execution_count": 5,
   "metadata": {},
   "outputs": [],
   "source": [
    "# aquifer size\n",
    "\n",
    "\n",
    "delx = 1\n",
    "dely = 1\n",
    "delz = 1\n",
    "\n",
    "lambdax = 25\n",
    "lambday = 25\n",
    "lambdaz = 5\n",
    "\n",
    "nlay = lambdaz*3\n",
    "nrow = lambday*3\n",
    "ncol = lambdax*6\n",
    "\n",
    "ztop = 0.\n",
    "zbot = np.zeros((nlay, nrow, ncol))\n",
    "for i in range(nlay):\n",
    "    zbot[i, :, :] = ztop - delz*(i+1)\n",
    "    \n",
    "# flow boundary condition\n",
    "\n",
    "ibound = np.ones((nlay, nrow, ncol), dtype=np.int32)\n",
    "ibound[:, :, 0] = -1\n",
    "ibound[:, :, -1] = -1\n",
    "    \n",
    "strt = np.ones((nlay, nrow, ncol), dtype=np.float32)\n",
    "strt[:, :, 0] = ncol\n",
    "strt[:, :, -1] = 0\n",
    "\n",
    "lrcq = {}\n",
    "lrcq[0] = []\n",
    "for i in range(lambdax,lambdax*2):\n",
    "    for j in range(lambday,lambday*2):\n",
    "        lrcq[0].append([nlay-1, j, i, 1.])\n",
    "\n",
    "# contamination source\n",
    "\n",
    "initial=np.zeros((nlay,nrow,ncol))\n",
    "for i in range(lambdax,lambdax*2):\n",
    "    for j in range(lambday,lambday*2):\n",
    "        initial[nlay-1, j, i] = 1\n",
    "\n",
    "        \n",
    "tlim=50\n",
    "times=np.linspace(0, tlim, num=151)"
   ]
  },
  {
   "cell_type": "code",
   "execution_count": 6,
   "metadata": {},
   "outputs": [
    {
     "name": "stdout",
     "output_type": "stream",
     "text": [
      "15 75 150\n"
     ]
    }
   ],
   "source": [
    "print(nlay, nrow, ncol)"
   ]
  },
  {
   "cell_type": "code",
   "execution_count": 7,
   "metadata": {},
   "outputs": [],
   "source": [
    "#load SGeMS\n",
    "sgems=np.loadtxt(INPUT_AQUIFER, skiprows=1, delimiter=',')\n",
    "\n",
    "#Reshape SGeMS data\n",
    "aquifer=np.zeros((nlay,nrow,ncol))\n",
    "aquifer=np.reshape(sgems.T,(nlay,nrow,ncol))\n",
    "np.save('sgemsaquifer',aquifer)"
   ]
  },
  {
   "cell_type": "code",
   "execution_count": 8,
   "metadata": {},
   "outputs": [],
   "source": [
    "hk = np.exp(aquifer)\n"
   ]
  },
  {
   "cell_type": "code",
   "execution_count": 9,
   "metadata": {},
   "outputs": [
    {
     "name": "stdout",
     "output_type": "stream",
     "text": [
      "FloPy is using the following  executable to run the model: ../mf2005\n",
      "\n",
      "                                  MODFLOW-2005     \n",
      "    U.S. GEOLOGICAL SURVEY MODULAR FINITE-DIFFERENCE GROUND-WATER FLOW MODEL\n",
      "                             Version 1.12.00 2/3/2017                        \n",
      "\n",
      " Using NAME file: aquifer.nam \n",
      " Run start date and time (yyyy/mm/dd hh:mm:ss): 2020/09/22 19:05:25\n",
      "\n",
      " Solving:  Stress period:     1    Time step:     1    Ground-Water Flow Eqn.\n",
      " Run end date and time (yyyy/mm/dd hh:mm:ss): 2020/09/22 19:05:31\n",
      " Elapsed run time:  5.958 Seconds\n",
      "\n",
      "  Normal termination of simulation\n"
     ]
    }
   ],
   "source": [
    "# Aquifer name\n",
    "modelname = MODEL_NAME\n",
    "        \n",
    "# MODFLOW\n",
    "mf = flopy.modflow.Modflow(modelname, exe_name=MF2005_EXE)\n",
    "dis = flopy.modflow.ModflowDis(mf, nlay=nlay, nrow=nrow, ncol=ncol, delr=delx, delc=dely, top=ztop, botm=zbot, nper=1, perlen=tlim)\n",
    "bas = flopy.modflow.ModflowBas(mf, ibound=ibound, strt=strt)\n",
    "lpf = flopy.modflow.ModflowLpf(mf, hk=hk)\n",
    "wel = flopy.modflow.ModflowWel(mf, stress_period_data=lrcq)\n",
    "oc = flopy.modflow.ModflowOc(mf)\n",
    "pcg = flopy.modflow.ModflowPcg(mf)\n",
    "lmt = flopy.modflow.ModflowLmt(mf, output_file_header='extended', output_file_format='formatted', output_file_name=modelname+\".ftl\")\n",
    "mf.write_input()\n",
    "success, buff = mf.run_model()\n"
   ]
  }
 ],
 "metadata": {
  "kernelspec": {
   "display_name": "Python 3",
   "language": "python",
   "name": "python3"
  },
  "language_info": {
   "codemirror_mode": {
    "name": "ipython",
    "version": 3
   },
   "file_extension": ".py",
   "mimetype": "text/x-python",
   "name": "python",
   "nbconvert_exporter": "python",
   "pygments_lexer": "ipython3",
   "version": "3.8.5"
  }
 },
 "nbformat": 4,
 "nbformat_minor": 2
}
